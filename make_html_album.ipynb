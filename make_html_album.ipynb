{
 "cells": [
  {
   "cell_type": "code",
   "execution_count": 18,
   "id": "9398514f-a4e1-4675-b7c4-42e9e432597c",
   "metadata": {},
   "outputs": [],
   "source": [
    "import os"
   ]
  },
  {
   "cell_type": "code",
   "execution_count": 19,
   "id": "9cf2971a-4c2d-4ada-be39-b4e545de941c",
   "metadata": {},
   "outputs": [],
   "source": [
    "pdir = '../static' #parents of the source dirs\n",
    "mdirs = [x for x in os.listdir(pdir) if '.' not in x]"
   ]
  },
  {
   "cell_type": "code",
   "execution_count": 20,
   "id": "2e6890b6-fdf9-4b7f-8a74-540b72e48398",
   "metadata": {},
   "outputs": [
    {
     "data": {
      "text/plain": [
       "['20160101-unknown',\n",
       " '20230602-berlin-trip',\n",
       " '20230627-forest',\n",
       " '20230725-zugspitze-trip']"
      ]
     },
     "execution_count": 20,
     "metadata": {},
     "output_type": "execute_result"
    }
   ],
   "source": [
    "mdirs"
   ]
  },
  {
   "cell_type": "code",
   "execution_count": 21,
   "id": "fe7159df-ce7b-48b9-b756-f66dcac6cb49",
   "metadata": {},
   "outputs": [],
   "source": [
    "mdir = mdirs[3]"
   ]
  },
  {
   "cell_type": "code",
   "execution_count": 22,
   "id": "f725a5ff-6188-44fc-a2c2-e3decf89f233",
   "metadata": {},
   "outputs": [
    {
     "data": {
      "text/plain": [
       "'20230725-zugspitze-trip'"
      ]
     },
     "execution_count": 22,
     "metadata": {},
     "output_type": "execute_result"
    }
   ],
   "source": [
    "mdir"
   ]
  },
  {
   "cell_type": "code",
   "execution_count": 23,
   "id": "742f16eb-fb97-40ab-b653-4e992ea2698d",
   "metadata": {},
   "outputs": [
    {
     "name": "stdout",
     "output_type": "stream",
     "text": [
      "../static/20230725-zugspitze-trip\n"
     ]
    }
   ],
   "source": [
    "mdpath = os.path.join(pdir, mdir)\n",
    "print(mdpath)"
   ]
  },
  {
   "cell_type": "code",
   "execution_count": 24,
   "id": "7740625a-70dc-4456-82dc-8167f4073cde",
   "metadata": {},
   "outputs": [
    {
     "name": "stdout",
     "output_type": "stream",
     "text": [
      "['zugspitze-trip-0_828x634.jpg', 'zugspitze-trip-100_630x832.jpg', 'zugspitze-trip-101_828x632.jpg', 'zugspitze-trip-102_630x832.jpg']\n"
     ]
    }
   ],
   "source": [
    "mfnames = os.listdir(mdpath)\n",
    "mfnames = [x for x in mfnames if \"jpg\" in x.lower()]\n",
    "mfnames.sort()\n",
    "print(mfnames[0:4])"
   ]
  },
  {
   "cell_type": "code",
   "execution_count": 25,
   "id": "253f836d-32a1-4dca-ac7a-1dc279652e98",
   "metadata": {},
   "outputs": [
    {
     "name": "stdout",
     "output_type": "stream",
     "text": [
      "../static/20230725-zugspitze-trip/thumb\n",
      "20230725-zugspitze-trip/thumb\n"
     ]
    }
   ],
   "source": [
    "\n",
    "\n",
    "sdpath = os.path.join(pdir, mdir, 'thumb')\n",
    "sfnames = os.listdir(sdpath)\n",
    "sfnames.sort()\n",
    "\n",
    "# path to images relative to the generated html file\n",
    "rdpath = os.path.join(mdir, 'thumb')\n",
    "\n",
    "print(sdpath)\n",
    "print(rdpath)\n",
    "\n",
    "sfnames = os.listdir(sdpath)"
   ]
  },
  {
   "cell_type": "code",
   "execution_count": 26,
   "id": "f0c601a8-db41-4a7b-acdd-6bd0080a8ab5",
   "metadata": {},
   "outputs": [
    {
     "name": "stdout",
     "output_type": "stream",
     "text": [
      "20230725-zugspitze-trip/thumb/zugspitze-trip-0_164x124_thumb.jpg\n",
      "20230725-zugspitze-trip/thumb/zugspitze-trip-100_94x124_thumb.jpg\n",
      "20230725-zugspitze-trip/thumb/zugspitze-trip-101_164x124_thumb.jpg\n",
      "20230725-zugspitze-trip/thumb/zugspitze-trip-102_94x124_thumb.jpg\n",
      "20230725-zugspitze-trip/thumb/zugspitze-trip-103_94x124_thumb.jpg\n",
      "20230725-zugspitze-trip/thumb/zugspitze-trip-104_94x124_thumb.jpg\n",
      "20230725-zugspitze-trip/thumb/zugspitze-trip-105_164x124_thumb.jpg\n",
      "20230725-zugspitze-trip/thumb/zugspitze-trip-106_94x124_thumb.jpg\n",
      "20230725-zugspitze-trip/thumb/zugspitze-trip-107_94x124_thumb.jpg\n",
      "20230725-zugspitze-trip/thumb/zugspitze-trip-108_164x124_thumb.jpg\n",
      "20230725-zugspitze-trip/thumb/zugspitze-trip-109_164x124_thumb.jpg\n",
      "20230725-zugspitze-trip/thumb/zugspitze-trip-10_164x124_thumb.jpg\n",
      "20230725-zugspitze-trip/thumb/zugspitze-trip-110_164x124_thumb.jpg\n",
      "20230725-zugspitze-trip/thumb/zugspitze-trip-22_164x124_thumb.jpg\n",
      "20230725-zugspitze-trip/thumb/zugspitze-trip-23_164x124_thumb.jpg\n",
      "20230725-zugspitze-trip/thumb/zugspitze-trip-24_164x124_thumb.jpg\n",
      "20230725-zugspitze-trip/thumb/zugspitze-trip-25_94x124_thumb.jpg\n",
      "20230725-zugspitze-trip/thumb/zugspitze-trip-26_164x124_thumb.jpg\n",
      "20230725-zugspitze-trip/thumb/zugspitze-trip-27_164x124_thumb.jpg\n",
      "20230725-zugspitze-trip/thumb/zugspitze-trip-28_164x124_thumb.jpg\n",
      "20230725-zugspitze-trip/thumb/zugspitze-trip-29_164x124_thumb.jpg\n",
      "20230725-zugspitze-trip/thumb/zugspitze-trip-2_164x124_thumb.jpg\n",
      "20230725-zugspitze-trip/thumb/zugspitze-trip-30_164x124_thumb.jpg\n",
      "20230725-zugspitze-trip/thumb/zugspitze-trip-31_94x124_thumb.jpg\n",
      "20230725-zugspitze-trip/thumb/zugspitze-trip-32_94x124_thumb.jpg\n",
      "20230725-zugspitze-trip/thumb/zugspitze-trip-33_94x124_thumb.jpg\n",
      "20230725-zugspitze-trip/thumb/zugspitze-trip-35_164x124_thumb.jpg\n",
      "20230725-zugspitze-trip/thumb/zugspitze-trip-36_164x124_thumb.jpg\n",
      "20230725-zugspitze-trip/thumb/zugspitze-trip-37_164x124_thumb.jpg\n",
      "20230725-zugspitze-trip/thumb/zugspitze-trip-38_164x124_thumb.jpg\n",
      "20230725-zugspitze-trip/thumb/zugspitze-trip-39_164x124_thumb.jpg\n",
      "20230725-zugspitze-trip/thumb/zugspitze-trip-3_164x124_thumb.jpg\n",
      "20230725-zugspitze-trip/thumb/zugspitze-trip-40_164x124_thumb.jpg\n",
      "20230725-zugspitze-trip/thumb/zugspitze-trip-41_164x124_thumb.jpg\n",
      "20230725-zugspitze-trip/thumb/zugspitze-trip-42_164x124_thumb.jpg\n",
      "20230725-zugspitze-trip/thumb/zugspitze-trip-43_164x124_thumb.jpg\n",
      "20230725-zugspitze-trip/thumb/zugspitze-trip-44_164x124_thumb.jpg\n",
      "20230725-zugspitze-trip/thumb/zugspitze-trip-45_164x124_thumb.jpg\n",
      "20230725-zugspitze-trip/thumb/zugspitze-trip-46_164x124_thumb.jpg\n",
      "20230725-zugspitze-trip/thumb/zugspitze-trip-48_164x124_thumb.jpg\n",
      "20230725-zugspitze-trip/thumb/zugspitze-trip-49_164x124_thumb.jpg\n",
      "20230725-zugspitze-trip/thumb/zugspitze-trip-4_164x124_thumb.jpg\n",
      "20230725-zugspitze-trip/thumb/zugspitze-trip-50_164x124_thumb.jpg\n",
      "20230725-zugspitze-trip/thumb/zugspitze-trip-51_164x124_thumb.jpg\n",
      "20230725-zugspitze-trip/thumb/zugspitze-trip-52_164x124_thumb.jpg\n",
      "20230725-zugspitze-trip/thumb/zugspitze-trip-53_94x124_thumb.jpg\n",
      "20230725-zugspitze-trip/thumb/zugspitze-trip-54_94x124_thumb.jpg\n",
      "20230725-zugspitze-trip/thumb/zugspitze-trip-55_94x124_thumb.jpg\n",
      "20230725-zugspitze-trip/thumb/zugspitze-trip-56_94x124_thumb.jpg\n",
      "20230725-zugspitze-trip/thumb/zugspitze-trip-57_94x124_thumb.jpg\n",
      "20230725-zugspitze-trip/thumb/zugspitze-trip-58_164x124_thumb.jpg\n",
      "20230725-zugspitze-trip/thumb/zugspitze-trip-59_164x124_thumb.jpg\n",
      "20230725-zugspitze-trip/thumb/zugspitze-trip-111_164x124_thumb.jpg\n",
      "20230725-zugspitze-trip/thumb/zugspitze-trip-123_164x124_thumb.jpg\n",
      "20230725-zugspitze-trip/thumb/zugspitze-trip-21_94x124_thumb.jpg\n",
      "20230725-zugspitze-trip/thumb/zugspitze-trip-34_94x124_thumb.jpg\n",
      "20230725-zugspitze-trip/thumb/zugspitze-trip-47_164x122_thumb.jpg\n",
      "20230725-zugspitze-trip/thumb/zugspitze-trip-5_94x124_thumb.jpg\n",
      "20230725-zugspitze-trip/thumb/zugspitze-trip-72_94x124_thumb.jpg\n",
      "20230725-zugspitze-trip/thumb/zugspitze-trip-85_94x124_thumb.jpg\n",
      "20230725-zugspitze-trip/thumb/zugspitze-trip-60_94x124_thumb.jpg\n",
      "20230725-zugspitze-trip/thumb/zugspitze-trip-61_94x124_thumb.jpg\n",
      "20230725-zugspitze-trip/thumb/zugspitze-trip-62_94x124_thumb.jpg\n",
      "20230725-zugspitze-trip/thumb/zugspitze-trip-63_94x124_thumb.jpg\n",
      "20230725-zugspitze-trip/thumb/zugspitze-trip-64_94x124_thumb.jpg\n",
      "20230725-zugspitze-trip/thumb/zugspitze-trip-65_164x124_thumb.jpg\n",
      "20230725-zugspitze-trip/thumb/zugspitze-trip-66_94x124_thumb.jpg\n",
      "20230725-zugspitze-trip/thumb/zugspitze-trip-67_94x124_thumb.jpg\n",
      "20230725-zugspitze-trip/thumb/zugspitze-trip-68_164x124_thumb.jpg\n",
      "20230725-zugspitze-trip/thumb/zugspitze-trip-69_94x124_thumb.jpg\n",
      "20230725-zugspitze-trip/thumb/zugspitze-trip-6_164x124_thumb.jpg\n",
      "20230725-zugspitze-trip/thumb/zugspitze-trip-70_94x124_thumb.jpg\n",
      "20230725-zugspitze-trip/thumb/zugspitze-trip-71_164x124_thumb.jpg\n",
      "20230725-zugspitze-trip/thumb/zugspitze-trip-73_94x124_thumb.jpg\n",
      "20230725-zugspitze-trip/thumb/zugspitze-trip-74_164x124_thumb.jpg\n",
      "20230725-zugspitze-trip/thumb/zugspitze-trip-75_94x124_thumb.jpg\n",
      "20230725-zugspitze-trip/thumb/zugspitze-trip-76_164x124_thumb.jpg\n",
      "20230725-zugspitze-trip/thumb/zugspitze-trip-77_94x124_thumb.jpg\n",
      "20230725-zugspitze-trip/thumb/zugspitze-trip-78_92x124_thumb.jpg\n",
      "20230725-zugspitze-trip/thumb/zugspitze-trip-79_164x124_thumb.jpg\n",
      "20230725-zugspitze-trip/thumb/zugspitze-trip-7_164x124_thumb.jpg\n",
      "20230725-zugspitze-trip/thumb/zugspitze-trip-80_164x124_thumb.jpg\n",
      "20230725-zugspitze-trip/thumb/zugspitze-trip-81_94x124_thumb.jpg\n",
      "20230725-zugspitze-trip/thumb/zugspitze-trip-82_164x124_thumb.jpg\n",
      "20230725-zugspitze-trip/thumb/zugspitze-trip-83_164x124_thumb.jpg\n",
      "20230725-zugspitze-trip/thumb/zugspitze-trip-84_94x124_thumb.jpg\n",
      "20230725-zugspitze-trip/thumb/zugspitze-trip-86_94x124_thumb.jpg\n",
      "20230725-zugspitze-trip/thumb/zugspitze-trip-87_94x124_thumb.jpg\n",
      "20230725-zugspitze-trip/thumb/zugspitze-trip-88_94x124_thumb.jpg\n",
      "20230725-zugspitze-trip/thumb/zugspitze-trip-89_94x124_thumb.jpg\n",
      "20230725-zugspitze-trip/thumb/zugspitze-trip-8_94x124_thumb.jpg\n",
      "20230725-zugspitze-trip/thumb/zugspitze-trip-90_94x124_thumb.jpg\n",
      "20230725-zugspitze-trip/thumb/zugspitze-trip-91_94x124_thumb.jpg\n",
      "20230725-zugspitze-trip/thumb/zugspitze-trip-92_94x124_thumb.jpg\n",
      "20230725-zugspitze-trip/thumb/zugspitze-trip-93_94x124_thumb.jpg\n",
      "20230725-zugspitze-trip/thumb/zugspitze-trip-94_94x124_thumb.jpg\n",
      "20230725-zugspitze-trip/thumb/zugspitze-trip-95_164x124_thumb.jpg\n",
      "20230725-zugspitze-trip/thumb/zugspitze-trip-96_164x124_thumb.jpg\n",
      "20230725-zugspitze-trip/thumb/zugspitze-trip-97_164x124_thumb.jpg\n",
      "20230725-zugspitze-trip/thumb/zugspitze-trip-98_164x124_thumb.jpg\n",
      "20230725-zugspitze-trip/thumb/zugspitze-trip-99_94x124_thumb.jpg\n",
      "20230725-zugspitze-trip/thumb/zugspitze-trip-9_164x124_thumb.jpg\n",
      "20230725-zugspitze-trip/thumb/zugspitze-trip-112_164x124_thumb.jpg\n",
      "20230725-zugspitze-trip/thumb/zugspitze-trip-113_164x124_thumb.jpg\n",
      "20230725-zugspitze-trip/thumb/zugspitze-trip-114_94x124_thumb.jpg\n",
      "20230725-zugspitze-trip/thumb/zugspitze-trip-115_164x124_thumb.jpg\n",
      "20230725-zugspitze-trip/thumb/zugspitze-trip-116_164x124_thumb.jpg\n",
      "20230725-zugspitze-trip/thumb/zugspitze-trip-117_164x124_thumb.jpg\n",
      "20230725-zugspitze-trip/thumb/zugspitze-trip-118_164x124_thumb.jpg\n",
      "20230725-zugspitze-trip/thumb/zugspitze-trip-119_94x124_thumb.jpg\n",
      "20230725-zugspitze-trip/thumb/zugspitze-trip-11_164x124_thumb.jpg\n",
      "20230725-zugspitze-trip/thumb/zugspitze-trip-120_94x124_thumb.jpg\n",
      "20230725-zugspitze-trip/thumb/zugspitze-trip-121_164x124_thumb.jpg\n",
      "20230725-zugspitze-trip/thumb/zugspitze-trip-122_164x124_thumb.jpg\n",
      "20230725-zugspitze-trip/thumb/zugspitze-trip-124_164x124_thumb.jpg\n",
      "20230725-zugspitze-trip/thumb/zugspitze-trip-125_164x124_thumb.jpg\n",
      "20230725-zugspitze-trip/thumb/zugspitze-trip-126_164x124_thumb.jpg\n",
      "20230725-zugspitze-trip/thumb/zugspitze-trip-127_94x124_thumb.jpg\n",
      "20230725-zugspitze-trip/thumb/zugspitze-trip-128_94x124_thumb.jpg\n",
      "20230725-zugspitze-trip/thumb/zugspitze-trip-129_164x124_thumb.jpg\n",
      "20230725-zugspitze-trip/thumb/zugspitze-trip-12_164x124_thumb.jpg\n",
      "20230725-zugspitze-trip/thumb/zugspitze-trip-130_164x124_thumb.jpg\n",
      "20230725-zugspitze-trip/thumb/zugspitze-trip-131_164x124_thumb.jpg\n",
      "20230725-zugspitze-trip/thumb/zugspitze-trip-132_164x124_thumb.jpg\n",
      "20230725-zugspitze-trip/thumb/zugspitze-trip-133_164x124_thumb.jpg\n",
      "20230725-zugspitze-trip/thumb/zugspitze-trip-13_164x124_thumb.jpg\n",
      "20230725-zugspitze-trip/thumb/zugspitze-trip-14_94x124_thumb.jpg\n",
      "20230725-zugspitze-trip/thumb/zugspitze-trip-15_164x124_thumb.jpg\n",
      "20230725-zugspitze-trip/thumb/zugspitze-trip-16_94x124_thumb.jpg\n",
      "20230725-zugspitze-trip/thumb/zugspitze-trip-17_94x124_thumb.jpg\n",
      "20230725-zugspitze-trip/thumb/zugspitze-trip-18_94x124_thumb.jpg\n",
      "20230725-zugspitze-trip/thumb/zugspitze-trip-19_94x124_thumb.jpg\n",
      "20230725-zugspitze-trip/thumb/zugspitze-trip-1_164x124_thumb.jpg\n",
      "20230725-zugspitze-trip/thumb/zugspitze-trip-20_164x124_thumb.jpg\n"
     ]
    }
   ],
   "source": [
    "im_links = []\n",
    "\n",
    "for fname in sfnames:\n",
    "        \n",
    "    imname = fname.split('_')[0]\n",
    "    TW, TH = fname.split('_')[-2].split('x')\n",
    "\n",
    "    tfpath = os.path.join(rdpath, fname)\n",
    "\n",
    "    print(tfpath)\n",
    "\n",
    "    im_link = \"\"\"<a href=\"/IMPPATH\"><IMG HEIGHT=!TH WIDTH=!TW  SRC=\"IMTPATH\" ALT=\"Digital photo titled IMNAME\"></a>\"\"\"\n",
    "    im_link = im_link.replace(\"!TH\",TH)\n",
    "    im_link = im_link.replace(\"!TW\",TW)\n",
    "    im_link = im_link.replace(\"IMTPATH\",tfpath)\n",
    "    im_link = im_link.replace(\"IMNAME\",imname)\n",
    "\n",
    "    im_links.append(im_link)"
   ]
  },
  {
   "cell_type": "code",
   "execution_count": 27,
   "id": "aad640d6-8de6-4263-a124-1911e86ba535",
   "metadata": {},
   "outputs": [
    {
     "data": {
      "text/plain": [
       "'<a href=\"/IMPPATH\"><IMG HEIGHT=124 WIDTH=164  SRC=\"20230725-zugspitze-trip/thumb/zugspitze-trip-0_164x124_thumb.jpg\" ALT=\"Digital photo titled zugspitze-trip-0\"></a>'"
      ]
     },
     "execution_count": 27,
     "metadata": {},
     "output_type": "execute_result"
    }
   ],
   "source": [
    "im_links[0]"
   ]
  },
  {
   "cell_type": "code",
   "execution_count": 28,
   "id": "8a883f5a-f718-48ee-b475-9cbf0b4c9fa8",
   "metadata": {},
   "outputs": [],
   "source": [
    "im_links_html = '\\n'.join(im_links)"
   ]
  },
  {
   "cell_type": "code",
   "execution_count": null,
   "id": "d627c5d2-22fa-453f-ad01-5fd4061b50d6",
   "metadata": {},
   "outputs": [],
   "source": []
  },
  {
   "cell_type": "code",
   "execution_count": 29,
   "id": "5ee9332c-cf18-46f2-bd44-982eae149395",
   "metadata": {},
   "outputs": [],
   "source": [
    "text = \"\"\"\n",
    "<html>\n",
    "<head>\n",
    "<title>DIRNAME</title>\n",
    "</head>\n",
    "\n",
    "<body bgcolor=#ffffff text=#000000>\n",
    "<h2>DIRNAME</h2>\n",
    "<hr>\n",
    "\n",
    "IMLINKS\n",
    "\n",
    "<br> Photos by <a href=\"https://willemhekman.nl\">Willem Hekman</a> and <a href=\"https://willemhekman.nl/copyright/\">copyright</a> by him.\n",
    "\n",
    "<hr>\n",
    "</body>\n",
    "</html>\n",
    "\n",
    "\"\"\".replace(\"DIRNAME\", mdir).replace(\"IMLINKS\", im_links_html)"
   ]
  },
  {
   "cell_type": "code",
   "execution_count": 30,
   "id": "e6ab8327-d1cc-4e12-a664-482febb5df54",
   "metadata": {},
   "outputs": [
    {
     "name": "stdout",
     "output_type": "stream",
     "text": [
      "../static/20230725-zugspitze-trip.html\n"
     ]
    }
   ],
   "source": [
    "hfname = \"{:}.html\".format(mdir)\n",
    "\n",
    "hfpath = os.path.join('../static',hfname)\n",
    "\n",
    "print(hfpath)\n",
    "\n",
    "with open(hfpath, 'w') as f:\n",
    "    f.write(text)"
   ]
  },
  {
   "cell_type": "code",
   "execution_count": null,
   "id": "f146c266-a1e2-4718-902c-b2d11e5210be",
   "metadata": {},
   "outputs": [],
   "source": []
  }
 ],
 "metadata": {
  "kernelspec": {
   "display_name": "Python 3 (ipykernel)",
   "language": "python",
   "name": "python3"
  },
  "language_info": {
   "codemirror_mode": {
    "name": "ipython",
    "version": 3
   },
   "file_extension": ".py",
   "mimetype": "text/x-python",
   "name": "python",
   "nbconvert_exporter": "python",
   "pygments_lexer": "ipython3",
   "version": "3.10.12"
  }
 },
 "nbformat": 4,
 "nbformat_minor": 5
}
