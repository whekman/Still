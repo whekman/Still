{
 "cells": [
  {
   "cell_type": "code",
   "execution_count": 131,
   "id": "9398514f-a4e1-4675-b7c4-42e9e432597c",
   "metadata": {},
   "outputs": [],
   "source": [
    "import os"
   ]
  },
  {
   "cell_type": "code",
   "execution_count": 132,
   "id": "9cf2971a-4c2d-4ada-be39-b4e545de941c",
   "metadata": {},
   "outputs": [],
   "source": [
    "pdir = '../static' #parents of the source dirs\n",
    "mdirs = [x for x in os.listdir(pdir) if '.' not in x]"
   ]
  },
  {
   "cell_type": "code",
   "execution_count": 133,
   "id": "2e6890b6-fdf9-4b7f-8a74-540b72e48398",
   "metadata": {},
   "outputs": [
    {
     "data": {
      "text/plain": [
       "['20160101-unknown',\n",
       " '20230602-berlin-trip',\n",
       " '20230627-forest',\n",
       " '20230725-zugspitze-trip',\n",
       " '20230817-texel-trip',\n",
       " '20231101-fall-misc']"
      ]
     },
     "execution_count": 133,
     "metadata": {},
     "output_type": "execute_result"
    }
   ],
   "source": [
    "mdirs"
   ]
  },
  {
   "cell_type": "code",
   "execution_count": 134,
   "id": "fe7159df-ce7b-48b9-b756-f66dcac6cb49",
   "metadata": {},
   "outputs": [],
   "source": [
    "mdir = mdirs[-1]"
   ]
  },
  {
   "cell_type": "code",
   "execution_count": 135,
   "id": "f725a5ff-6188-44fc-a2c2-e3decf89f233",
   "metadata": {},
   "outputs": [
    {
     "data": {
      "text/plain": [
       "'20231101-fall-misc'"
      ]
     },
     "execution_count": 135,
     "metadata": {},
     "output_type": "execute_result"
    }
   ],
   "source": [
    "mdir"
   ]
  },
  {
   "cell_type": "code",
   "execution_count": 136,
   "id": "72934de6-3050-49fd-abf5-8349c73b0abc",
   "metadata": {},
   "outputs": [],
   "source": [
    "year = mdir[0:4]\n",
    "album = ' '.join([x.capitalize() for x in mdir.split('-')[1:]])"
   ]
  },
  {
   "cell_type": "code",
   "execution_count": 137,
   "id": "b099964c-66a6-45f1-b0fc-6c63ed47e381",
   "metadata": {},
   "outputs": [
    {
     "data": {
      "text/plain": [
       "'Fall Misc'"
      ]
     },
     "execution_count": 137,
     "metadata": {},
     "output_type": "execute_result"
    }
   ],
   "source": [
    "album"
   ]
  },
  {
   "cell_type": "code",
   "execution_count": 138,
   "id": "efdf5495-c5bf-4b0d-ba6e-8106546c12f8",
   "metadata": {},
   "outputs": [],
   "source": [
    "title = \"{:} {:}\".format(album, year)"
   ]
  },
  {
   "cell_type": "code",
   "execution_count": 139,
   "id": "742f16eb-fb97-40ab-b653-4e992ea2698d",
   "metadata": {},
   "outputs": [
    {
     "name": "stdout",
     "output_type": "stream",
     "text": [
      "../static/20231101-fall-misc\n"
     ]
    }
   ],
   "source": [
    "mdpath = os.path.join(pdir, mdir)\n",
    "print(mdpath)"
   ]
  },
  {
   "cell_type": "code",
   "execution_count": 140,
   "id": "7740625a-70dc-4456-82dc-8167f4073cde",
   "metadata": {},
   "outputs": [
    {
     "name": "stdout",
     "output_type": "stream",
     "text": [
      "['fall-misc-00_630x832.jpg', 'fall-misc-01_828x634.jpg', 'fall-misc-02_630x832.jpg', 'fall-misc-03_630x832.jpg']\n"
     ]
    }
   ],
   "source": [
    "mfnames = os.listdir(mdpath)\n",
    "mfnames = [x for x in mfnames if \"jpg\" in x.lower()]\n",
    "mfnames.sort()\n",
    "print(mfnames[0:4])"
   ]
  },
  {
   "cell_type": "code",
   "execution_count": 141,
   "id": "253f836d-32a1-4dca-ac7a-1dc279652e98",
   "metadata": {},
   "outputs": [
    {
     "name": "stdout",
     "output_type": "stream",
     "text": [
      "../static/20231101-fall-misc/thumb\n",
      "20231101-fall-misc/thumb\n"
     ]
    }
   ],
   "source": [
    "\n",
    "tsdpath = os.path.join(pdir, mdir, 'thumb')\n",
    "tsfnames = os.listdir(tsdpath)\n",
    "tsfnames.sort()\n",
    "\n",
    "# path to images relative to the generated html file\n",
    "trdpath = os.path.join(mdir, 'thumb')\n",
    "\n",
    "print(tsdpath)\n",
    "print(trdpath)\n",
    "\n",
    "sfnames = os.listdir(tsdpath)\n",
    "sfnames.sort()"
   ]
  },
  {
   "cell_type": "code",
   "execution_count": 142,
   "id": "f0c601a8-db41-4a7b-acdd-6bd0080a8ab5",
   "metadata": {},
   "outputs": [
    {
     "name": "stdout",
     "output_type": "stream",
     "text": [
      "fall-misc-00\n",
      "fall-misc-01\n",
      "fall-misc-02\n",
      "fall-misc-03\n",
      "fall-misc-04\n",
      "fall-misc-05\n",
      "fall-misc-06\n",
      "fall-misc-07\n",
      "fall-misc-08\n",
      "fall-misc-09\n"
     ]
    }
   ],
   "source": [
    "im_links = []\n",
    "\n",
    "for fname in sfnames:\n",
    "        \n",
    "    imname = fname.split('_')[0]\n",
    "    print(imname)\n",
    "    photo_html_page_fname = 'photo-'+imname+\".html\"\n",
    "    TW, TH = fname.split('_')[-2].split('x')\n",
    "    \n",
    "    tfpath = os.path.join(trdpath, fname)\n",
    "\n",
    "    im_link = \"\"\"<a href=\"IMPPATH\"><IMG HEIGHT=!TH WIDTH=!TW  SRC=\"IMTPATH\" ALT=\"Digital photo titled IMNAME\"></a>\"\"\"\n",
    "    im_link = im_link.replace(\"!TH\",TH)\n",
    "    im_link = im_link.replace(\"!TW\",TW)\n",
    "    im_link = im_link.replace(\"IMTPATH\",tfpath)\n",
    "    im_link = im_link.replace(\"IMNAME\",imname)\n",
    "    im_link = im_link.replace(\"IMPPATH\",photo_html_page_fname)\n",
    "\n",
    "    im_links.append(im_link)"
   ]
  },
  {
   "cell_type": "code",
   "execution_count": 143,
   "id": "aad640d6-8de6-4263-a124-1911e86ba535",
   "metadata": {},
   "outputs": [
    {
     "data": {
      "text/plain": [
       "'<a href=\"photo-fall-misc-00.html\"><IMG HEIGHT=122 WIDTH=92  SRC=\"20231101-fall-misc/thumb/fall-misc-00_92x122_thumb.jpg\" ALT=\"Digital photo titled fall-misc-00\"></a>'"
      ]
     },
     "execution_count": 143,
     "metadata": {},
     "output_type": "execute_result"
    }
   ],
   "source": [
    "im_links[0]"
   ]
  },
  {
   "cell_type": "code",
   "execution_count": 144,
   "id": "8a883f5a-f718-48ee-b475-9cbf0b4c9fa8",
   "metadata": {},
   "outputs": [],
   "source": [
    "im_links_html = '\\n'.join(im_links)"
   ]
  },
  {
   "cell_type": "code",
   "execution_count": 145,
   "id": "5ee9332c-cf18-46f2-bd44-982eae149395",
   "metadata": {},
   "outputs": [],
   "source": [
    "text = \"\"\"\n",
    "<html>\n",
    "<head>\n",
    "\n",
    "<title>TITLE</title>\n",
    "\n",
    "<link rel=\"stylesheet\" href=\"style.css\">\n",
    "<link href='https://fonts.googleapis.com/css?family=Lato:400,700' rel='stylesheet' type='text/css'>\n",
    "\n",
    "</head>\n",
    "\n",
    "\n",
    "<body>\n",
    "    <div id=\"container\">\n",
    "        <h1>TITLE</h1>\n",
    "        <hr>\n",
    "        \n",
    "        \n",
    "        IMLINKS\n",
    "        <hr>\n",
    "        \n",
    "        Photos by <a href=\"https://willemhekman.nl\">Willem Hekman</a> and <a href=\"https://willemhekman.nl/copyright/\">copyright</a> by him.\n",
    "\n",
    "        <hr>\n",
    "    </div>\n",
    "</body>\n",
    "</html>\n",
    "\n",
    "\"\"\".replace(\"TITLE\", title).replace(\"IMLINKS\", im_links_html)"
   ]
  },
  {
   "cell_type": "code",
   "execution_count": 146,
   "id": "e6ab8327-d1cc-4e12-a664-482febb5df54",
   "metadata": {},
   "outputs": [
    {
     "name": "stdout",
     "output_type": "stream",
     "text": [
      "../static/album-20231101-fall-misc.html\n"
     ]
    }
   ],
   "source": [
    "hfname = \"album-{:}.html\".format(mdir)\n",
    "\n",
    "hfpath = os.path.join('../static',hfname)\n",
    "\n",
    "print(hfpath)\n",
    "\n",
    "with open(hfpath, 'w') as f:\n",
    "    f.write(text)"
   ]
  },
  {
   "cell_type": "markdown",
   "id": "521c7623-e543-4521-a4df-c8b16f2045ea",
   "metadata": {},
   "source": [
    "# Individual Pages!"
   ]
  },
  {
   "cell_type": "code",
   "execution_count": 147,
   "id": "87a18d12-f79e-484f-b0dd-94d7a69dfb59",
   "metadata": {},
   "outputs": [
    {
     "name": "stdout",
     "output_type": "stream",
     "text": [
      "Source:  ../static/20231101-fall-misc\n",
      "Dest:  20231101-fall-misc\n",
      "----\n",
      "fall-misc-00_630x832.jpg\n",
      "../static/photo-fall-misc-00.html\n",
      "fall-misc-01_828x634.jpg\n",
      "../static/photo-fall-misc-01.html\n",
      "fall-misc-02_630x832.jpg\n",
      "../static/photo-fall-misc-02.html\n",
      "fall-misc-03_630x832.jpg\n",
      "../static/photo-fall-misc-03.html\n",
      "fall-misc-04_630x832.jpg\n",
      "../static/photo-fall-misc-04.html\n",
      "fall-misc-05_630x832.jpg\n",
      "../static/photo-fall-misc-05.html\n",
      "fall-misc-06_828x634.jpg\n",
      "../static/photo-fall-misc-06.html\n",
      "fall-misc-07_828x634.jpg\n",
      "../static/photo-fall-misc-07.html\n",
      "fall-misc-08_828x632.jpg\n",
      "../static/photo-fall-misc-08.html\n",
      "fall-misc-09_828x634.jpg\n",
      "../static/photo-fall-misc-09.html\n"
     ]
    }
   ],
   "source": [
    "psdpath = os.path.join(pdir, mdir)\n",
    "psfnames = os.listdir(psdpath)\n",
    "\n",
    "psfnames.sort()\n",
    "\n",
    "# path to images relative to the generated html file\n",
    "prdpath = os.path.join(mdir)\n",
    "\n",
    "print('Source: ', psdpath)\n",
    "print('Dest: ', prdpath)\n",
    "print('----')\n",
    "\n",
    "pfnames = [x for x in os.listdir(psdpath) if '.jpg' in x]\n",
    "\n",
    "i = 0\n",
    "N = len(pfnames)\n",
    "\n",
    "while(i < N):\n",
    "\n",
    "    fname = pfnames[i]\n",
    "    next_fname = pfnames[(i+1)%N]\n",
    "\n",
    "    print(fname)\n",
    "\n",
    "    im_fpath = os.path.join(prdpath, fname)\n",
    "\n",
    "    title = ' '.join([x.capitalize() for x in fname.split('_')[0].split('-')])\n",
    "\n",
    "    html_fname = 'photo-'+fname.split('_')[0]+\".html\"\n",
    "    html_fname_next = 'photo-'+next_fname.split('_')[0]+\".html\"\n",
    "    \n",
    "    imdiv = \"\"\"\"<a href=\"NEXT_HTML\"><IMG SRC=\"IMFPATH\" ALT=\"Digital photo titled IMNAME\"></a>\"\"\"\n",
    "    imdiv = imdiv.replace(\"IMFPATH\", im_fpath)\n",
    "    imdiv = imdiv.replace(\"NEXT_HTML\", html_fname_next)\n",
    "    imdiv = imdiv.replace(\"IMNAME\", title)\n",
    "    \n",
    "    text = \"\"\"\n",
    "    <html>\n",
    "    <head>\n",
    "    \n",
    "    <title>TITLE</title>\n",
    "    \n",
    "    <link rel=\"stylesheet\" href=\"style.css\">\n",
    "    <link href='https://fonts.googleapis.com/css?family=Lato:400,700' rel='stylesheet' type='text/css'>\n",
    "    \n",
    "    </head>\n",
    "    \n",
    "    <body>\n",
    "        <div id=\"container\">\n",
    "        \n",
    "            <h2>TITLE</h2>\n",
    "            \n",
    "            <hr>\n",
    "            \n",
    "            IMDIV\n",
    "            \n",
    "            <hr>\n",
    "            \n",
    "            Photos by <a href=\"https://willemhekman.nl\">Willem Hekman</a> and <a href=\"https://willemhekman.nl/copyright/\">copyright</a> by him.\n",
    "    \n",
    "            <hr>\n",
    "        </div>\n",
    "    </body>\n",
    "    </html>\n",
    "    \"\"\".replace(\"TITLE\", title).replace(\"IMDIV\", imdiv)\n",
    "\n",
    "    hfpath = os.path.join('../static',html_fname)\n",
    "    \n",
    "    print(hfpath)\n",
    "    \n",
    "    with open(hfpath, 'w') as f:\n",
    "        f.write(text)\n",
    "\n",
    "    i += 1\n",
    "    "
   ]
  },
  {
   "cell_type": "code",
   "execution_count": null,
   "id": "04fdd4bf-7f70-4890-92c2-6f3024172ed5",
   "metadata": {},
   "outputs": [],
   "source": []
  },
  {
   "cell_type": "code",
   "execution_count": 76,
   "id": "b8fb3cd3-ff5d-45ec-9962-30ac07bb418f",
   "metadata": {},
   "outputs": [],
   "source": []
  },
  {
   "cell_type": "code",
   "execution_count": 82,
   "id": "065e1792-50d2-450f-bc9b-740291ebaf88",
   "metadata": {},
   "outputs": [],
   "source": []
  },
  {
   "cell_type": "code",
   "execution_count": 83,
   "id": "849ce2a1-1f2b-4334-9620-3d088889dcb1",
   "metadata": {},
   "outputs": [
    {
     "name": "stdout",
     "output_type": "stream",
     "text": [
      "../static/zugspitze-trip-76.html\n"
     ]
    }
   ],
   "source": []
  },
  {
   "cell_type": "code",
   "execution_count": null,
   "id": "cac4bc08-4c44-4bcd-9ec3-b79d37f3de13",
   "metadata": {},
   "outputs": [],
   "source": []
  }
 ],
 "metadata": {
  "kernelspec": {
   "display_name": "Python 3 (ipykernel)",
   "language": "python",
   "name": "python3"
  },
  "language_info": {
   "codemirror_mode": {
    "name": "ipython",
    "version": 3
   },
   "file_extension": ".py",
   "mimetype": "text/x-python",
   "name": "python",
   "nbconvert_exporter": "python",
   "pygments_lexer": "ipython3",
   "version": "3.10.12"
  }
 },
 "nbformat": 4,
 "nbformat_minor": 5
}
