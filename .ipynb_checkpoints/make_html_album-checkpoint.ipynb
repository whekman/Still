{
 "cells": [
  {
   "cell_type": "code",
   "execution_count": 1,
   "id": "9398514f-a4e1-4675-b7c4-42e9e432597c",
   "metadata": {},
   "outputs": [],
   "source": [
    "import os"
   ]
  },
  {
   "cell_type": "code",
   "execution_count": 2,
   "id": "9cf2971a-4c2d-4ada-be39-b4e545de941c",
   "metadata": {},
   "outputs": [],
   "source": [
    "pdir = '../static' #parents of the source dirs\n",
    "mdirs = [x for x in os.listdir(pdir) if '.' not in x]"
   ]
  },
  {
   "cell_type": "code",
   "execution_count": 3,
   "id": "2e6890b6-fdf9-4b7f-8a74-540b72e48398",
   "metadata": {},
   "outputs": [
    {
     "data": {
      "text/plain": [
       "['20160101-unknown',\n",
       " '20230602-berlin-trip',\n",
       " '20230627-forest',\n",
       " '20230725-zugspitze-trip']"
      ]
     },
     "execution_count": 3,
     "metadata": {},
     "output_type": "execute_result"
    }
   ],
   "source": [
    "mdirs"
   ]
  },
  {
   "cell_type": "code",
   "execution_count": 4,
   "id": "fe7159df-ce7b-48b9-b756-f66dcac6cb49",
   "metadata": {},
   "outputs": [],
   "source": [
    "mdir = mdirs[3]"
   ]
  },
  {
   "cell_type": "code",
   "execution_count": 13,
   "id": "f725a5ff-6188-44fc-a2c2-e3decf89f233",
   "metadata": {},
   "outputs": [
    {
     "data": {
      "text/plain": [
       "'20230725-zugspitze-trip'"
      ]
     },
     "execution_count": 13,
     "metadata": {},
     "output_type": "execute_result"
    }
   ],
   "source": [
    "mdir"
   ]
  },
  {
   "cell_type": "code",
   "execution_count": 21,
   "id": "72934de6-3050-49fd-abf5-8349c73b0abc",
   "metadata": {},
   "outputs": [],
   "source": [
    "year = mdir[0:4]\n",
    "album = ' '.join([x.capitalize() for x in mdir.split('-')[1:]])"
   ]
  },
  {
   "cell_type": "code",
   "execution_count": 22,
   "id": "b099964c-66a6-45f1-b0fc-6c63ed47e381",
   "metadata": {},
   "outputs": [
    {
     "data": {
      "text/plain": [
       "'Zugspitze Trip'"
      ]
     },
     "execution_count": 22,
     "metadata": {},
     "output_type": "execute_result"
    }
   ],
   "source": [
    "album"
   ]
  },
  {
   "cell_type": "code",
   "execution_count": 23,
   "id": "efdf5495-c5bf-4b0d-ba6e-8106546c12f8",
   "metadata": {},
   "outputs": [],
   "source": [
    "title = \"{:} {:}\".format(album, year)"
   ]
  },
  {
   "cell_type": "code",
   "execution_count": 24,
   "id": "742f16eb-fb97-40ab-b653-4e992ea2698d",
   "metadata": {},
   "outputs": [
    {
     "name": "stdout",
     "output_type": "stream",
     "text": [
      "../static/20230725-zugspitze-trip\n"
     ]
    }
   ],
   "source": [
    "mdpath = os.path.join(pdir, mdir)\n",
    "print(mdpath)"
   ]
  },
  {
   "cell_type": "code",
   "execution_count": 25,
   "id": "7740625a-70dc-4456-82dc-8167f4073cde",
   "metadata": {},
   "outputs": [
    {
     "name": "stdout",
     "output_type": "stream",
     "text": [
      "['zugspitze-trip-00_828x634.jpg', 'zugspitze-trip-01_828x634.jpg', 'zugspitze-trip-02_828x634.jpg', 'zugspitze-trip-03_630x832.jpg']\n"
     ]
    }
   ],
   "source": [
    "mfnames = os.listdir(mdpath)\n",
    "mfnames = [x for x in mfnames if \"jpg\" in x.lower()]\n",
    "mfnames.sort()\n",
    "print(mfnames[0:4])"
   ]
  },
  {
   "cell_type": "code",
   "execution_count": 26,
   "id": "253f836d-32a1-4dca-ac7a-1dc279652e98",
   "metadata": {},
   "outputs": [
    {
     "name": "stdout",
     "output_type": "stream",
     "text": [
      "../static/20230725-zugspitze-trip/thumb\n",
      "20230725-zugspitze-trip/thumb\n"
     ]
    }
   ],
   "source": [
    "\n",
    "\n",
    "sdpath = os.path.join(pdir, mdir, 'thumb')\n",
    "sfnames = os.listdir(sdpath)\n",
    "sfnames.sort()\n",
    "\n",
    "# path to images relative to the generated html file\n",
    "rdpath = os.path.join(mdir, 'thumb')\n",
    "\n",
    "print(sdpath)\n",
    "print(rdpath)\n",
    "\n",
    "sfnames = os.listdir(sdpath)"
   ]
  },
  {
   "cell_type": "code",
   "execution_count": 27,
   "id": "f0c601a8-db41-4a7b-acdd-6bd0080a8ab5",
   "metadata": {},
   "outputs": [
    {
     "name": "stdout",
     "output_type": "stream",
     "text": [
      "20230725-zugspitze-trip/thumb/zugspitze-trip-00_162x122_thumb.jpg\n",
      "20230725-zugspitze-trip/thumb/zugspitze-trip-01_162x122_thumb.jpg\n",
      "20230725-zugspitze-trip/thumb/zugspitze-trip-02_162x122_thumb.jpg\n",
      "20230725-zugspitze-trip/thumb/zugspitze-trip-03_92x122_thumb.jpg\n",
      "20230725-zugspitze-trip/thumb/zugspitze-trip-04_162x122_thumb.jpg\n",
      "20230725-zugspitze-trip/thumb/zugspitze-trip-05_162x122_thumb.jpg\n",
      "20230725-zugspitze-trip/thumb/zugspitze-trip-06_92x122_thumb.jpg\n",
      "20230725-zugspitze-trip/thumb/zugspitze-trip-07_162x122_thumb.jpg\n",
      "20230725-zugspitze-trip/thumb/zugspitze-trip-08_162x122_thumb.jpg\n",
      "20230725-zugspitze-trip/thumb/zugspitze-trip-09_162x122_thumb.jpg\n",
      "20230725-zugspitze-trip/thumb/zugspitze-trip-10_92x122_thumb.jpg\n",
      "20230725-zugspitze-trip/thumb/zugspitze-trip-11_92x122_thumb.jpg\n",
      "20230725-zugspitze-trip/thumb/zugspitze-trip-12_92x122_thumb.jpg\n",
      "20230725-zugspitze-trip/thumb/zugspitze-trip-14_92x122_thumb.jpg\n",
      "20230725-zugspitze-trip/thumb/zugspitze-trip-15_162x122_thumb.jpg\n",
      "20230725-zugspitze-trip/thumb/zugspitze-trip-16_162x122_thumb.jpg\n",
      "20230725-zugspitze-trip/thumb/zugspitze-trip-17_162x122_thumb.jpg\n",
      "20230725-zugspitze-trip/thumb/zugspitze-trip-18_92x122_thumb.jpg\n",
      "20230725-zugspitze-trip/thumb/zugspitze-trip-19_162x122_thumb.jpg\n",
      "20230725-zugspitze-trip/thumb/zugspitze-trip-20_162x122_thumb.jpg\n",
      "20230725-zugspitze-trip/thumb/zugspitze-trip-21_162x122_thumb.jpg\n",
      "20230725-zugspitze-trip/thumb/zugspitze-trip-22_92x122_thumb.jpg\n",
      "20230725-zugspitze-trip/thumb/zugspitze-trip-23_92x122_thumb.jpg\n",
      "20230725-zugspitze-trip/thumb/zugspitze-trip-24_162x122_thumb.jpg\n",
      "20230725-zugspitze-trip/thumb/zugspitze-trip-25_162x122_thumb.jpg\n",
      "20230725-zugspitze-trip/thumb/zugspitze-trip-26_162x122_thumb.jpg\n",
      "20230725-zugspitze-trip/thumb/zugspitze-trip-28_162x122_thumb.jpg\n",
      "20230725-zugspitze-trip/thumb/zugspitze-trip-29_162x122_thumb.jpg\n",
      "20230725-zugspitze-trip/thumb/zugspitze-trip-30_162x122_thumb.jpg\n",
      "20230725-zugspitze-trip/thumb/zugspitze-trip-31_162x122_thumb.jpg\n",
      "20230725-zugspitze-trip/thumb/zugspitze-trip-32_92x122_thumb.jpg\n",
      "20230725-zugspitze-trip/thumb/zugspitze-trip-33_92x122_thumb.jpg\n",
      "20230725-zugspitze-trip/thumb/zugspitze-trip-34_162x122_thumb.jpg\n",
      "20230725-zugspitze-trip/thumb/zugspitze-trip-35_162x122_thumb.jpg\n",
      "20230725-zugspitze-trip/thumb/zugspitze-trip-36_92x122_thumb.jpg\n",
      "20230725-zugspitze-trip/thumb/zugspitze-trip-37_92x122_thumb.jpg\n",
      "20230725-zugspitze-trip/thumb/zugspitze-trip-38_92x122_thumb.jpg\n",
      "20230725-zugspitze-trip/thumb/zugspitze-trip-39_162x122_thumb.jpg\n",
      "20230725-zugspitze-trip/thumb/zugspitze-trip-40_92x122_thumb.jpg\n",
      "20230725-zugspitze-trip/thumb/zugspitze-trip-42_92x122_thumb.jpg\n",
      "20230725-zugspitze-trip/thumb/zugspitze-trip-43_92x122_thumb.jpg\n",
      "20230725-zugspitze-trip/thumb/zugspitze-trip-44_162x122_thumb.jpg\n",
      "20230725-zugspitze-trip/thumb/zugspitze-trip-45_162x122_thumb.jpg\n",
      "20230725-zugspitze-trip/thumb/zugspitze-trip-46_92x122_thumb.jpg\n",
      "20230725-zugspitze-trip/thumb/zugspitze-trip-47_162x122_thumb.jpg\n",
      "20230725-zugspitze-trip/thumb/zugspitze-trip-48_162x122_thumb.jpg\n",
      "20230725-zugspitze-trip/thumb/zugspitze-trip-49_92x122_thumb.jpg\n",
      "20230725-zugspitze-trip/thumb/zugspitze-trip-50_92x122_thumb.jpg\n",
      "20230725-zugspitze-trip/thumb/zugspitze-trip-51_92x122_thumb.jpg\n",
      "20230725-zugspitze-trip/thumb/zugspitze-trip-52_92x122_thumb.jpg\n",
      "20230725-zugspitze-trip/thumb/zugspitze-trip-53_92x122_thumb.jpg\n",
      "20230725-zugspitze-trip/thumb/zugspitze-trip-54_162x122_thumb.jpg\n",
      "20230725-zugspitze-trip/thumb/zugspitze-trip-13_162x122_thumb.jpg\n",
      "20230725-zugspitze-trip/thumb/zugspitze-trip-27_162x122_thumb.jpg\n",
      "20230725-zugspitze-trip/thumb/zugspitze-trip-41_92x122_thumb.jpg\n",
      "20230725-zugspitze-trip/thumb/zugspitze-trip-55_162x122_thumb.jpg\n",
      "20230725-zugspitze-trip/thumb/zugspitze-trip-56_162x122_thumb.jpg\n",
      "20230725-zugspitze-trip/thumb/zugspitze-trip-57_92x122_thumb.jpg\n",
      "20230725-zugspitze-trip/thumb/zugspitze-trip-58_92x122_thumb.jpg\n",
      "20230725-zugspitze-trip/thumb/zugspitze-trip-59_162x122_thumb.jpg\n",
      "20230725-zugspitze-trip/thumb/zugspitze-trip-60_92x122_thumb.jpg\n",
      "20230725-zugspitze-trip/thumb/zugspitze-trip-61_92x122_thumb.jpg\n",
      "20230725-zugspitze-trip/thumb/zugspitze-trip-62_162x122_thumb.jpg\n",
      "20230725-zugspitze-trip/thumb/zugspitze-trip-63_92x122_thumb.jpg\n",
      "20230725-zugspitze-trip/thumb/zugspitze-trip-64_162x122_thumb.jpg\n",
      "20230725-zugspitze-trip/thumb/zugspitze-trip-65_162x122_thumb.jpg\n",
      "20230725-zugspitze-trip/thumb/zugspitze-trip-66_162x122_thumb.jpg\n",
      "20230725-zugspitze-trip/thumb/zugspitze-trip-67_92x122_thumb.jpg\n",
      "20230725-zugspitze-trip/thumb/zugspitze-trip-68_162x122_thumb.jpg\n",
      "20230725-zugspitze-trip/thumb/zugspitze-trip-69_92x122_thumb.jpg\n",
      "20230725-zugspitze-trip/thumb/zugspitze-trip-70_162x122_thumb.jpg\n",
      "20230725-zugspitze-trip/thumb/zugspitze-trip-71_162x122_thumb.jpg\n",
      "20230725-zugspitze-trip/thumb/zugspitze-trip-72_92x122_thumb.jpg\n",
      "20230725-zugspitze-trip/thumb/zugspitze-trip-73_162x122_thumb.jpg\n",
      "20230725-zugspitze-trip/thumb/zugspitze-trip-74_162x122_thumb.jpg\n",
      "20230725-zugspitze-trip/thumb/zugspitze-trip-75_162x122_thumb.jpg\n",
      "20230725-zugspitze-trip/thumb/zugspitze-trip-76_162x122_thumb.jpg\n"
     ]
    }
   ],
   "source": [
    "im_links = []\n",
    "\n",
    "for fname in sfnames:\n",
    "        \n",
    "    imname = fname.split('_')[0]\n",
    "    TW, TH = fname.split('_')[-2].split('x')\n",
    "    \n",
    "    tfpath = os.path.join(rdpath, fname)\n",
    "\n",
    "    print(tfpath)\n",
    "\n",
    "    im_link = \"\"\"<a href=\"/IMPPATH\"><IMG HEIGHT=!TH WIDTH=!TW  SRC=\"IMTPATH\" ALT=\"Digital photo titled IMNAME\"></a>\"\"\"\n",
    "    im_link = im_link.replace(\"!TH\",TH)\n",
    "    im_link = im_link.replace(\"!TW\",TW)\n",
    "    im_link = im_link.replace(\"IMTPATH\",tfpath)\n",
    "    im_link = im_link.replace(\"IMNAME\",imname)\n",
    "\n",
    "    im_links.append(im_link)"
   ]
  },
  {
   "cell_type": "code",
   "execution_count": 28,
   "id": "aad640d6-8de6-4263-a124-1911e86ba535",
   "metadata": {},
   "outputs": [
    {
     "data": {
      "text/plain": [
       "'<a href=\"/IMPPATH\"><IMG HEIGHT=122 WIDTH=162  SRC=\"20230725-zugspitze-trip/thumb/zugspitze-trip-00_162x122_thumb.jpg\" ALT=\"Digital photo titled zugspitze-trip-00\"></a>'"
      ]
     },
     "execution_count": 28,
     "metadata": {},
     "output_type": "execute_result"
    }
   ],
   "source": [
    "im_links[0]"
   ]
  },
  {
   "cell_type": "code",
   "execution_count": 29,
   "id": "8a883f5a-f718-48ee-b475-9cbf0b4c9fa8",
   "metadata": {},
   "outputs": [],
   "source": [
    "im_links_html = '\\n'.join(im_links)"
   ]
  },
  {
   "cell_type": "code",
   "execution_count": 38,
   "id": "5ee9332c-cf18-46f2-bd44-982eae149395",
   "metadata": {},
   "outputs": [],
   "source": [
    "text = \"\"\"\n",
    "<html>\n",
    "<head>\n",
    "\n",
    "<title>TITLE</title>\n",
    "\n",
    "<link rel=\"stylesheet\" href=\"style.css\">\n",
    "<link href='https://fonts.googleapis.com/css?family=Lato:400,700' rel='stylesheet' type='text/css'>\n",
    "\n",
    "</head>\n",
    "\n",
    "\n",
    "<body>\n",
    "    <div id=\"container\">\n",
    "        <h2>TITLE</h2>\n",
    "        <hr>\n",
    "        \n",
    "        \n",
    "        IMLINKS\n",
    "        <hr>\n",
    "        \n",
    "        Photos by <a href=\"https://willemhekman.nl\">Willem Hekman</a> and <a href=\"https://willemhekman.nl/copyright/\">copyright</a> by him.\n",
    "\n",
    "        <hr>\n",
    "    </div>\n",
    "</body>\n",
    "</html>\n",
    "\n",
    "\"\"\".replace(\"TITLE\", title).replace(\"IMLINKS\", im_links_html)"
   ]
  },
  {
   "cell_type": "code",
   "execution_count": 39,
   "id": "e6ab8327-d1cc-4e12-a664-482febb5df54",
   "metadata": {},
   "outputs": [
    {
     "name": "stdout",
     "output_type": "stream",
     "text": [
      "../static/20230725-zugspitze-trip.html\n"
     ]
    }
   ],
   "source": [
    "hfname = \"{:}.html\".format(mdir)\n",
    "\n",
    "hfpath = os.path.join('../static',hfname)\n",
    "\n",
    "print(hfpath)\n",
    "\n",
    "with open(hfpath, 'w') as f:\n",
    "    f.write(text)"
   ]
  },
  {
   "cell_type": "code",
   "execution_count": null,
   "id": "f146c266-a1e2-4718-902c-b2d11e5210be",
   "metadata": {},
   "outputs": [],
   "source": []
  }
 ],
 "metadata": {
  "kernelspec": {
   "display_name": "Python 3 (ipykernel)",
   "language": "python",
   "name": "python3"
  },
  "language_info": {
   "codemirror_mode": {
    "name": "ipython",
    "version": 3
   },
   "file_extension": ".py",
   "mimetype": "text/x-python",
   "name": "python",
   "nbconvert_exporter": "python",
   "pygments_lexer": "ipython3",
   "version": "3.10.12"
  }
 },
 "nbformat": 4,
 "nbformat_minor": 5
}
