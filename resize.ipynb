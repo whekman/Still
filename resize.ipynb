{
 "cells": [
  {
   "cell_type": "code",
   "execution_count": 1,
   "id": "134f1976-eb55-4992-9189-d3c422fe78b3",
   "metadata": {},
   "outputs": [],
   "source": [
    "import os"
   ]
  },
  {
   "cell_type": "code",
   "execution_count": 2,
   "id": "ded951ad-004d-4e39-8786-1585d857ca08",
   "metadata": {},
   "outputs": [],
   "source": [
    "from PIL import Image, ImageOps, ImageDraw, ImageFont\n",
    "\n",
    "COPY_STRING = \"(c) YEAR https://willemhekman.nl/copyright\"\n",
    "\n",
    "def yearFromFileName(filename):\n",
    "    return filename[0:4]\n",
    "    "
   ]
  },
  {
   "cell_type": "code",
   "execution_count": 13,
   "id": "2e5b97cb-24c0-4386-be62-03b92e234f3c",
   "metadata": {},
   "outputs": [],
   "source": [
    "def resize(im, size = 800, border=True):\n",
    "    \n",
    "    w, h = im.size\n",
    "\n",
    "    if w > h:\n",
    "        tw = size\n",
    "        th = int(h*tw/w)\n",
    "    else:\n",
    "        th = size\n",
    "        tw = int(w*th/h)\n",
    "                 \n",
    "    im_r = im.resize((tw,th))\n",
    "    \n",
    "    # border color\n",
    "    color = \"black\"\n",
    "    \n",
    "    b1 = 14 #left / right\n",
    "    b2 = 16 # top / bottom\n",
    "    border = (b1, b2, b1, b2)\n",
    "\n",
    "    if border:\n",
    "        # Expand the image to place the border\n",
    "        im_rb = ImageOps.expand(im_r, border=border, fill=color)\n",
    "        nw, nh = im_rb.size\n",
    "        \n",
    "    draw = ImageDraw.Draw(im_rb)    \n",
    "    font = ImageFont.truetype(\"/usr/share/fonts/truetype/dejavu/DejaVuSansMono.ttf\", 9)\n",
    "    \n",
    "    draw.text((nw-244, nh-14),\"(c) 2023 https://willemhekman.nl/copyright\",(255,255,255),font=font)\n",
    "    \n",
    "    # Shows the image in image viewer \n",
    "    \n",
    "    return (im_rb, im_rb.size)\n",
    "\n",
    "def resize_thumb(im):\n",
    "\n",
    "    w, h = im.size\n",
    "    \n",
    "    if w > h:        \n",
    "\n",
    "        tw = 160\n",
    "        th = int(h*tw/w)\n",
    "    else:\n",
    "        th = 120\n",
    "        tw = int(w*th/h)\n",
    "\n",
    "    im_r = im.resize((tw,th))\n",
    "    \n",
    "    b1 = 2 #left / right\n",
    "    b2 = 2 # top / bottom\n",
    "    border = (b1, b2, b1, b2)\n",
    "    \n",
    "    im_rb = ImageOps.expand(im_r, border=border, fill=\"black\")\n",
    "    \n",
    "    return (im_rb, im_rb.size)"
   ]
  },
  {
   "cell_type": "code",
   "execution_count": 14,
   "id": "f142000c-2ca7-4273-b45b-140e5fd7fd6d",
   "metadata": {},
   "outputs": [],
   "source": [
    "spdir = '../photos' #parents of the source dirs\n",
    "sdirs = [x for x in os.listdir(spdir) if not x.startswith('.')]"
   ]
  },
  {
   "cell_type": "code",
   "execution_count": 20,
   "id": "cddb0f18-61a7-4ae1-b4ba-334262b0f5c1",
   "metadata": {},
   "outputs": [
    {
     "name": "stdout",
     "output_type": "stream",
     "text": [
      "berlin-trip\n"
     ]
    }
   ],
   "source": [
    "i = 1\n",
    "\n",
    "# setting the source directory\n",
    "\n",
    "sdir = sdirs[i] # source dir\n",
    "\n",
    "# making the associated paths\n",
    "sdpath = os.path.join(spdir, sdir)\n",
    "sdpath\n",
    "\n",
    "dname = '-'.join(sdir.split('-')[1:])\n",
    "print(dname)"
   ]
  },
  {
   "cell_type": "code",
   "execution_count": 18,
   "id": "a746fb0e-e026-471e-b7c1-7e2e8a6879a4",
   "metadata": {},
   "outputs": [
    {
     "name": "stdout",
     "output_type": "stream",
     "text": [
      "../static/20230602-berlin-trip\n",
      "../static/20230602-berlin-trip/thumb\n"
     ]
    }
   ],
   "source": [
    "\n",
    "# set the target directory\n",
    "tpdir = '../static'\n",
    "\n",
    "# making associated paths\n",
    "tdir = sdir\n",
    "tdpath = os.path.join(tpdir, tdir)\n",
    "print(tdpath)\n",
    "tdpath_thumb = os.path.join(tdpath,'thumb')\n",
    "print(tdpath_thumb)"
   ]
  },
  {
   "cell_type": "code",
   "execution_count": 9,
   "id": "0d258110-5263-44e4-b3b3-79239acc4c78",
   "metadata": {},
   "outputs": [],
   "source": [
    "def mkdir(tdpath):\n",
    "\n",
    "    if not os.path.exists(tdpath):\n",
    "       # Create a new directory because it does not exist\n",
    "       os.makedirs(tdpath)\n",
    "       print(\"Creating directory: {:}\".format(tdpath))\n"
   ]
  },
  {
   "cell_type": "code",
   "execution_count": 10,
   "id": "7a859a3b-298f-40a7-baba-334129b39486",
   "metadata": {},
   "outputs": [
    {
     "name": "stdout",
     "output_type": "stream",
     "text": [
      "Creating directory: ../static/20230602-berlin-trip\n",
      "Creating directory: ../static/20230602-berlin-trip/thumb\n"
     ]
    }
   ],
   "source": [
    "mkdir(tdpath)\n",
    "mkdir(tdpath_thumb)"
   ]
  },
  {
   "cell_type": "code",
   "execution_count": 11,
   "id": "a5d9c5d7-2c62-45be-89f4-050917813e62",
   "metadata": {},
   "outputs": [],
   "source": [
    "fnames = os.listdir(sdpath)\n",
    "fnames = [x for x in fnames if \"jpg\" in x.lower()]\n",
    "fnames.sort()"
   ]
  },
  {
   "cell_type": "code",
   "execution_count": 12,
   "id": "c3f8605b-8937-49c3-b6a5-64aca6fb4660",
   "metadata": {},
   "outputs": [
    {
     "name": "stdout",
     "output_type": "stream",
     "text": [
      "../static/20230602-berlin-trip/berlin-trip-0_828x632.jpg\n",
      "../static/20230602-berlin-trip/thumb/berlin-trip-0_164x124_thumb.jpg\n",
      "../static/20230602-berlin-trip/berlin-trip-1_828x632.jpg\n",
      "../static/20230602-berlin-trip/thumb/berlin-trip-1_164x124_thumb.jpg\n",
      "../static/20230602-berlin-trip/berlin-trip-2_828x632.jpg\n",
      "../static/20230602-berlin-trip/thumb/berlin-trip-2_164x124_thumb.jpg\n",
      "../static/20230602-berlin-trip/berlin-trip-3_828x632.jpg\n",
      "../static/20230602-berlin-trip/thumb/berlin-trip-3_164x124_thumb.jpg\n",
      "../static/20230602-berlin-trip/berlin-trip-4_828x632.jpg\n",
      "../static/20230602-berlin-trip/thumb/berlin-trip-4_164x124_thumb.jpg\n",
      "../static/20230602-berlin-trip/berlin-trip-5_828x632.jpg\n",
      "../static/20230602-berlin-trip/thumb/berlin-trip-5_164x124_thumb.jpg\n",
      "../static/20230602-berlin-trip/berlin-trip-6_828x632.jpg\n",
      "../static/20230602-berlin-trip/thumb/berlin-trip-6_164x124_thumb.jpg\n",
      "../static/20230602-berlin-trip/berlin-trip-7_828x632.jpg\n",
      "../static/20230602-berlin-trip/thumb/berlin-trip-7_164x124_thumb.jpg\n",
      "../static/20230602-berlin-trip/berlin-trip-8_828x632.jpg\n",
      "../static/20230602-berlin-trip/thumb/berlin-trip-8_164x124_thumb.jpg\n",
      "../static/20230602-berlin-trip/berlin-trip-9_828x632.jpg\n",
      "../static/20230602-berlin-trip/thumb/berlin-trip-9_164x124_thumb.jpg\n",
      "../static/20230602-berlin-trip/berlin-trip-10_828x632.jpg\n",
      "../static/20230602-berlin-trip/thumb/berlin-trip-10_164x124_thumb.jpg\n",
      "../static/20230602-berlin-trip/berlin-trip-11_828x632.jpg\n",
      "../static/20230602-berlin-trip/thumb/berlin-trip-11_164x124_thumb.jpg\n",
      "../static/20230602-berlin-trip/berlin-trip-12_828x632.jpg\n",
      "../static/20230602-berlin-trip/thumb/berlin-trip-12_164x124_thumb.jpg\n",
      "../static/20230602-berlin-trip/berlin-trip-13_828x632.jpg\n",
      "../static/20230602-berlin-trip/thumb/berlin-trip-13_164x124_thumb.jpg\n",
      "../static/20230602-berlin-trip/berlin-trip-14_627x832.jpg\n",
      "../static/20230602-berlin-trip/thumb/berlin-trip-14_93x124_thumb.jpg\n",
      "../static/20230602-berlin-trip/berlin-trip-15_828x632.jpg\n",
      "../static/20230602-berlin-trip/thumb/berlin-trip-15_164x124_thumb.jpg\n",
      "../static/20230602-berlin-trip/berlin-trip-16_627x832.jpg\n",
      "../static/20230602-berlin-trip/thumb/berlin-trip-16_93x124_thumb.jpg\n",
      "../static/20230602-berlin-trip/berlin-trip-17_828x632.jpg\n",
      "../static/20230602-berlin-trip/thumb/berlin-trip-17_164x124_thumb.jpg\n",
      "../static/20230602-berlin-trip/berlin-trip-18_828x632.jpg\n",
      "../static/20230602-berlin-trip/thumb/berlin-trip-18_164x124_thumb.jpg\n",
      "../static/20230602-berlin-trip/berlin-trip-19_828x632.jpg\n",
      "../static/20230602-berlin-trip/thumb/berlin-trip-19_164x124_thumb.jpg\n",
      "../static/20230602-berlin-trip/berlin-trip-20_627x832.jpg\n",
      "../static/20230602-berlin-trip/thumb/berlin-trip-20_93x124_thumb.jpg\n",
      "../static/20230602-berlin-trip/berlin-trip-21_828x632.jpg\n",
      "../static/20230602-berlin-trip/thumb/berlin-trip-21_164x124_thumb.jpg\n",
      "../static/20230602-berlin-trip/berlin-trip-22_627x832.jpg\n",
      "../static/20230602-berlin-trip/thumb/berlin-trip-22_93x124_thumb.jpg\n",
      "../static/20230602-berlin-trip/berlin-trip-23_627x832.jpg\n",
      "../static/20230602-berlin-trip/thumb/berlin-trip-23_93x124_thumb.jpg\n",
      "../static/20230602-berlin-trip/berlin-trip-24_828x632.jpg\n",
      "../static/20230602-berlin-trip/thumb/berlin-trip-24_164x124_thumb.jpg\n",
      "../static/20230602-berlin-trip/berlin-trip-25_828x632.jpg\n",
      "../static/20230602-berlin-trip/thumb/berlin-trip-25_164x124_thumb.jpg\n",
      "../static/20230602-berlin-trip/berlin-trip-26_828x632.jpg\n",
      "../static/20230602-berlin-trip/thumb/berlin-trip-26_164x124_thumb.jpg\n",
      "../static/20230602-berlin-trip/berlin-trip-27_627x832.jpg\n",
      "../static/20230602-berlin-trip/thumb/berlin-trip-27_93x124_thumb.jpg\n"
     ]
    }
   ],
   "source": [
    "for i, fn in enumerate(fnames):\n",
    "\n",
    "    bn, ext = os.path.splitext(fn)\n",
    "\n",
    "    sfpath = os.path.join(sdpath, fn)\n",
    "    \n",
    "    im = Image.open(sfpath)\n",
    "    \n",
    "    tw = resized\n",
    "    th = 600\n",
    "    \n",
    "    im_resized, (W8, H8) = resize(im)\n",
    "    im_thumb, (WT, HT) = resize_thumb(im)\n",
    "    \n",
    "    fn_resized = \"{:}-{:}_{:}x{:}{:}\".format(dname,i,W8,H8,ext)\n",
    "    fn_thumb = \"{:}-{:}_{:}x{:}_thumb{:}\".format(dname,i,WT,HT,ext)\n",
    "    \n",
    "    tfpath_resized = os.path.join(tdpath, fn_resized)\n",
    "    tfpath_thumb = os.path.join(tdpath_thumb, fn_thumb)\n",
    "    \n",
    "    im_resized.save(tfpath_resized)\n",
    "    im_thumb.save(tfpath_thumb)\n",
    "    \n",
    "    print(tfpath_resized)\n",
    "    print(tfpath_thumb)\n",
    "    \n",
    "    "
   ]
  },
  {
   "cell_type": "code",
   "execution_count": 41,
   "id": "d773927c-eadb-4607-88a6-8ca3d9f875bf",
   "metadata": {},
   "outputs": [
    {
     "name": "stdout",
     "output_type": "stream",
     "text": [
      "copy-800-600.jpg\n"
     ]
    }
   ],
   "source": [
    "\n"
   ]
  },
  {
   "cell_type": "code",
   "execution_count": 31,
   "id": "b3695208-ee2e-4426-aaec-08649ca76740",
   "metadata": {},
   "outputs": [],
   "source": []
  },
  {
   "cell_type": "code",
   "execution_count": 69,
   "id": "fd3dfa9a-6f9d-4ed1-86f8-821fb8656327",
   "metadata": {},
   "outputs": [],
   "source": []
  },
  {
   "cell_type": "code",
   "execution_count": 74,
   "id": "88db7ec0-7d00-48f3-8e48-9f7f6c87a83d",
   "metadata": {},
   "outputs": [],
   "source": []
  },
  {
   "cell_type": "code",
   "execution_count": 17,
   "id": "cf4f1cd4-ebeb-4acc-b503-5b6320d55a91",
   "metadata": {},
   "outputs": [],
   "source": []
  },
  {
   "cell_type": "code",
   "execution_count": null,
   "id": "62cb9320-b9c0-4a2f-a73f-124b4ca44bff",
   "metadata": {},
   "outputs": [],
   "source": []
  }
 ],
 "metadata": {
  "kernelspec": {
   "display_name": "Python 3 (ipykernel)",
   "language": "python",
   "name": "python3"
  },
  "language_info": {
   "codemirror_mode": {
    "name": "ipython",
    "version": 3
   },
   "file_extension": ".py",
   "mimetype": "text/x-python",
   "name": "python",
   "nbconvert_exporter": "python",
   "pygments_lexer": "ipython3",
   "version": "3.10.12"
  }
 },
 "nbformat": 4,
 "nbformat_minor": 5
}
